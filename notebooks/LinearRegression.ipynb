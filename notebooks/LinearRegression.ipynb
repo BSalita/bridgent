{
 "cells": [
  {
   "cell_type": "code",
   "execution_count": 2,
   "metadata": {},
   "outputs": [],
   "source": [
    "%matplotlib inline"
   ]
  },
  {
   "cell_type": "code",
   "execution_count": 3,
   "metadata": {},
   "outputs": [],
   "source": [
    "import numpy as np\n",
    "import tensorflow as tf\n",
    "\n",
    "from batcher import Batcher\n",
    "from metrics import acc012"
   ]
  },
  {
   "cell_type": "code",
   "execution_count": 4,
   "metadata": {},
   "outputs": [],
   "source": [
    "np.random.seed(1337)"
   ]
  },
  {
   "cell_type": "code",
   "execution_count": 5,
   "metadata": {},
   "outputs": [],
   "source": [
    "X_train = np.load('../data/bin/train/deal.npy')\n",
    "y_train = np.load('../data/bin/train/tricks_spades.npy')\n",
    "\n",
    "X_val = np.load('../data/bin/val/deal.npy')\n",
    "y_val = np.load('../data/bin/val/tricks_spades.npy')\n",
    "X_val = X_val.reshape((X_val.shape[0], -1))\n",
    "y_val = y_val.reshape((y_val.shape[0], 1))\n",
    "\n",
    "n_examples = X_train.shape[0]\n",
    "\n",
    "X_train = X_train.reshape((n_examples, -1))\n",
    "y_train = y_train.reshape((n_examples, 1))\n",
    "\n",
    "n_dim = X_train.shape[1]\n",
    "assert(n_dim == 208)\n",
    "\n",
    "batch_size = 64\n",
    "n_iterations = 10000\n",
    "display_step = 1000\n",
    "\n",
    "learning_rate = 0.001"
   ]
  },
  {
   "cell_type": "code",
   "execution_count": 6,
   "metadata": {},
   "outputs": [],
   "source": [
    "X = tf.placeholder(tf.float32, [None, n_dim])\n",
    "Y = tf.placeholder(tf.float32, [None, 1])"
   ]
  },
  {
   "cell_type": "code",
   "execution_count": 7,
   "metadata": {},
   "outputs": [],
   "source": [
    "W = tf.Variable(np.zeros((n_dim, 1)), dtype=tf.float32, name='weights')"
   ]
  },
  {
   "cell_type": "code",
   "execution_count": 8,
   "metadata": {},
   "outputs": [],
   "source": [
    "pred = tf.matmul(X, W)"
   ]
  },
  {
   "cell_type": "code",
   "execution_count": 9,
   "metadata": {},
   "outputs": [],
   "source": [
    "rmse = tf.sqrt(tf.reduce_mean(tf.squared_difference(pred, Y)))"
   ]
  },
  {
   "cell_type": "code",
   "execution_count": 10,
   "metadata": {},
   "outputs": [],
   "source": [
    "cost = tf.reduce_mean(tf.squared_difference(pred, Y))"
   ]
  },
  {
   "cell_type": "code",
   "execution_count": 11,
   "metadata": {},
   "outputs": [],
   "source": [
    "optimizer = tf.train.GradientDescentOptimizer(learning_rate).minimize(cost)"
   ]
  },
  {
   "cell_type": "code",
   "execution_count": 12,
   "metadata": {},
   "outputs": [],
   "source": [
    "init = tf.global_variables_initializer()"
   ]
  },
  {
   "cell_type": "code",
   "execution_count": 13,
   "metadata": {},
   "outputs": [],
   "source": [
    "batch = Batcher(n_examples, batch_size)"
   ]
  },
  {
   "cell_type": "code",
   "execution_count": 14,
   "metadata": {},
   "outputs": [
    {
     "name": "stdout",
     "output_type": "stream",
     "text": [
      "it=0 cost=45.098140716552734 rmse=6.71551513671875\n",
      "(0.010986249999999999, 0.038898750000000003, 0.090975)\n",
      "(0.011050000000000001, 0.038429999999999999, 0.090950000000000003)\n",
      "it=1000 cost=3.4998764991760254 rmse=1.870795726776123\n",
      "(0.19491875, 0.54740624999999998, 0.80529625000000005)\n",
      "(0.19202, 0.54706999999999995, 0.80630999999999997)\n",
      "it=2000 cost=2.0230600833892822 rmse=1.422343134880066\n",
      "(0.26630999999999999, 0.69925250000000005, 0.92326125000000003)\n",
      "(0.26361000000000001, 0.69960999999999995, 0.92457)\n",
      "it=3000 cost=1.489018440246582 rmse=1.2202534675598145\n",
      "(0.31868999999999997, 0.78394375000000005, 0.95947125)\n",
      "(0.31762000000000001, 0.78491999999999995, 0.96052000000000004)\n",
      "it=4000 cost=1.3012675046920776 rmse=1.1407310962677002\n",
      "(0.34472999999999998, 0.81709374999999995, 0.96946874999999999)\n",
      "(0.34472000000000003, 0.81867999999999996, 0.96997)\n",
      "it=5000 cost=1.2309529781341553 rmse=1.109483242034912\n",
      "(0.35639375000000001, 0.82977749999999995, 0.97286625000000004)\n",
      "(0.35593000000000002, 0.83069000000000004, 0.97299999999999998)\n",
      "it=6000 cost=1.2058722972869873 rmse=1.0981221199035645\n",
      "(0.36107624999999999, 0.83441374999999995, 0.97403375000000003)\n",
      "(0.36142999999999997, 0.83567000000000002, 0.97402999999999995)\n",
      "it=7000 cost=1.1966584920883179 rmse=1.0939189195632935\n",
      "(0.36323749999999999, 0.83610125000000002, 0.97454874999999996)\n",
      "(0.36320999999999998, 0.83716000000000002, 0.97416000000000003)\n",
      "it=8000 cost=1.1939245462417603 rmse=1.0926685333251953\n",
      "(0.36376750000000002, 0.83651249999999999, 0.97464874999999995)\n",
      "(0.36399999999999999, 0.83794000000000002, 0.97436)\n",
      "it=9000 cost=1.1922576427459717 rmse=1.0919054746627808\n",
      "(0.36480374999999998, 0.83704374999999998, 0.97463374999999997)\n",
      "(0.36441000000000001, 0.83850999999999998, 0.97436999999999996)\n"
     ]
    }
   ],
   "source": [
    "with tf.Session() as sess:\n",
    "    sess.run(init)\n",
    "    \n",
    "    for iteration in range(n_iterations):\n",
    "        x_batch, y_batch = batch.next_batch([X_train, y_train])\n",
    "        \n",
    "        sess.run(optimizer, feed_dict={X:x_batch, Y:y_batch})\n",
    "        \n",
    "        if iteration % display_step == 0:\n",
    "            c = sess.run(cost, feed_dict={X: X_train, Y: y_train})\n",
    "            rms_error = sess.run(rmse, feed_dict={X: X_train, Y: y_train})\n",
    "            pred_train = sess.run(pred, feed_dict={X: X_train, Y: y_train})\n",
    "            pred_val = sess.run(pred, feed_dict={X: X_val, Y: y_val})\n",
    "            print('it={} cost={} rmse={}'.format(iteration, c, rms_error))\n",
    "            print(acc012(y_train, pred_train))\n",
    "            print(acc012(y_val, pred_val))\n",
    "            \n",
    "    predictions = sess.run(pred, feed_dict={X: X_train, Y: y_train})\n",
    "        "
   ]
  },
  {
   "cell_type": "code",
   "execution_count": null,
   "metadata": {},
   "outputs": [],
   "source": []
  }
 ],
 "metadata": {
  "kernelspec": {
   "display_name": "Python 3",
   "language": "python",
   "name": "python3"
  },
  "language_info": {
   "codemirror_mode": {
    "name": "ipython",
    "version": 3
   },
   "file_extension": ".py",
   "mimetype": "text/x-python",
   "name": "python",
   "nbconvert_exporter": "python",
   "pygments_lexer": "ipython3",
   "version": "3.5.4"
  }
 },
 "nbformat": 4,
 "nbformat_minor": 2
}
